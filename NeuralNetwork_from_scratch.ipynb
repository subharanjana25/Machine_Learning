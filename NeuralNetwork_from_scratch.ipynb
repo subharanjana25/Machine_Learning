{
  "nbformat": 4,
  "nbformat_minor": 0,
  "metadata": {
    "colab": {
      "provenance": [],
      "authorship_tag": "ABX9TyNxwxpadIBPT2ctWE7Yl/jz",
      "include_colab_link": true
    },
    "kernelspec": {
      "name": "python3",
      "display_name": "Python 3"
    },
    "language_info": {
      "name": "python"
    }
  },
  "cells": [
    {
      "cell_type": "markdown",
      "metadata": {
        "id": "view-in-github",
        "colab_type": "text"
      },
      "source": [
        "<a href=\"https://colab.research.google.com/github/subharanjana25/Machine_Learning/blob/ml_algorithms-from-scratch/NeuralNetwork_from_scratch.ipynb\" target=\"_parent\"><img src=\"https://colab.research.google.com/assets/colab-badge.svg\" alt=\"Open In Colab\"/></a>"
      ]
    },
    {
      "cell_type": "code",
      "execution_count": null,
      "metadata": {
        "id": "WfqW7iuxSPTt"
      },
      "outputs": [],
      "source": [
        "import numpy as np\n"
      ]
    },
    {
      "cell_type": "code",
      "source": [
        "x=np.array([[1,0,1,0],[1,0,1,1],[0,1,0,1]])\n",
        "x"
      ],
      "metadata": {
        "colab": {
          "base_uri": "https://localhost:8080/"
        },
        "id": "RLPcB1-gSxIc",
        "outputId": "c7343da1-8491-48d1-e4bf-c42d35d96701"
      },
      "execution_count": null,
      "outputs": [
        {
          "output_type": "execute_result",
          "data": {
            "text/plain": [
              "array([[1, 0, 1, 0],\n",
              "       [1, 0, 1, 1],\n",
              "       [0, 1, 0, 1]])"
            ]
          },
          "metadata": {},
          "execution_count": 2
        }
      ]
    },
    {
      "cell_type": "code",
      "source": [
        "y=np.array([[1],[0],[1]])"
      ],
      "metadata": {
        "id": "zTlHIk4kS997"
      },
      "execution_count": null,
      "outputs": []
    },
    {
      "cell_type": "code",
      "source": [
        "y"
      ],
      "metadata": {
        "colab": {
          "base_uri": "https://localhost:8080/"
        },
        "id": "OzRhRMpzTTFS",
        "outputId": "d60200b6-11ae-4056-fe01-a5f0b1f8a6c6"
      },
      "execution_count": null,
      "outputs": [
        {
          "output_type": "execute_result",
          "data": {
            "text/plain": [
              "array([[1],\n",
              "       [0],\n",
              "       [1]])"
            ]
          },
          "metadata": {},
          "execution_count": 4
        }
      ]
    },
    {
      "cell_type": "code",
      "source": [
        "def sigmoid(x):\n",
        "  return 1/(1+np.exp(-x))"
      ],
      "metadata": {
        "id": "h55-SZ27TUEI"
      },
      "execution_count": null,
      "outputs": []
    },
    {
      "cell_type": "code",
      "source": [
        "def derivative_sigmoid(x):\n",
        "  return x*(1-x)"
      ],
      "metadata": {
        "id": "fEMx8W1lTon9"
      },
      "execution_count": null,
      "outputs": []
    },
    {
      "cell_type": "code",
      "source": [
        "epoch=5000\n",
        "lr=0.1\n",
        "input_neurons=x.shape[1]\n",
        "hidden_neurons=3\n",
        "output_neurons=1"
      ],
      "metadata": {
        "id": "EYiX7yIqT52L"
      },
      "execution_count": null,
      "outputs": []
    },
    {
      "cell_type": "code",
      "source": [
        "wh=np.random.uniform(size=(input_neurons,hidden_neurons))\n",
        "bh=np.random.uniform(size=(1,hidden_neurons))\n",
        "wo=np.random.uniform(size=(hidden_neurons,output_neurons))\n",
        "bo=np.random.uniform(size=(1,output_neurons))"
      ],
      "metadata": {
        "id": "FLTaMTkLUY84"
      },
      "execution_count": null,
      "outputs": []
    },
    {
      "cell_type": "code",
      "source": [
        "for i in range(epoch):\n",
        "    # Forward pass\n",
        "    hidden_input = np.dot(x, wh) + bh\n",
        "    hidden_activation = sigmoid(hidden_input)\n",
        "    output_layer = np.dot(hidden_activation, wo) + bo\n",
        "    output = sigmoid(output_layer)\n",
        "\n",
        "    # Backward pass\n",
        "    E = y - output\n",
        "    slope_output = derivative_sigmoid(output)\n",
        "    slope_hidden = derivative_sigmoid(hidden_activation)\n",
        "    d_output = E * slope_output\n",
        "    error_hidden = d_output.dot(wo.T)\n",
        "    d_hidden = error_hidden * slope_hidden\n",
        "\n",
        "    # Update weights and biases\n",
        "    wo += hidden_activation.T.dot(d_output) * lr\n",
        "    bo += np.sum(d_output, axis=0, keepdims=True) * lr\n",
        "    wh += x.T.dot(d_hidden) * lr\n",
        "    bh += np.sum(d_hidden, axis=0, keepdims=True) * lr"
      ],
      "metadata": {
        "id": "ElkIDG76VP1A"
      },
      "execution_count": null,
      "outputs": []
    },
    {
      "cell_type": "code",
      "source": [
        "output"
      ],
      "metadata": {
        "colab": {
          "base_uri": "https://localhost:8080/"
        },
        "id": "Uezu5b0MY1n0",
        "outputId": "a0102726-8e9b-4809-b14b-7da7157e3884"
      },
      "execution_count": null,
      "outputs": [
        {
          "output_type": "execute_result",
          "data": {
            "text/plain": [
              "array([[0.97162289],\n",
              "       [0.03905493],\n",
              "       [0.9772142 ]])"
            ]
          },
          "metadata": {},
          "execution_count": 12
        }
      ]
    },
    {
      "cell_type": "code",
      "source": [
        "correct_predictions = 0\n",
        "\n",
        "for i in range(len(x)):\n",
        "    # Forward pass\n",
        "    hidden_input = np.dot(x[i], wh) + bh\n",
        "    hidden_activation = sigmoid(hidden_input)\n",
        "    output_layer = np.dot(hidden_activation, wo) + bo\n",
        "    output = sigmoid(output_layer)\n",
        "\n",
        "    # Check if the prediction is correct\n",
        "    predicted_label = 1 if output[0] > 0.5 else 0\n",
        "    actual_label = y[i][0]\n",
        "    if predicted_label == actual_label:\n",
        "        correct_predictions += 1\n",
        "\n",
        "# Calculate accuracy\n",
        "accuracy = correct_predictions / len(x) * 100\n",
        "print(\"Accuracy:\", accuracy, \"%\")"
      ],
      "metadata": {
        "colab": {
          "base_uri": "https://localhost:8080/"
        },
        "id": "V0IAfIeSY4r8",
        "outputId": "28f74e2e-6dc7-4c59-86eb-409a44d7915d"
      },
      "execution_count": null,
      "outputs": [
        {
          "output_type": "stream",
          "name": "stdout",
          "text": [
            "Accuracy: 100.0 %\n"
          ]
        }
      ]
    },
    {
      "cell_type": "code",
      "source": [],
      "metadata": {
        "id": "jRZl60H2bYI1"
      },
      "execution_count": null,
      "outputs": []
    }
  ]
}